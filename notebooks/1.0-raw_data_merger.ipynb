{
 "cells": [
  {
   "cell_type": "markdown",
   "source": [
    "@Author : Pramil Paudel \n",
    "IDE : Pycharm"
   ],
   "metadata": {
    "collapsed": false
   }
  },
  {
   "cell_type": "markdown",
   "source": [
    "Importing the required modules "
   ],
   "metadata": {
    "collapsed": false
   }
  },
  {
   "cell_type": "code",
   "execution_count": 1,
   "metadata": {
    "collapsed": true,
    "pycharm": {
     "is_executing": false
    }
   },
   "outputs": [
    {
     "name": "stdout",
     "text": [
      "Packages Loaded\n"
     ],
     "output_type": "stream"
    }
   ],
   "source": [
    "import os\n",
    "import pandas as pd\n",
    "import numpy as np\n",
    "import matplotlib.pyplot as plt\n",
    "from matplotlib import pyplot as plt\n",
    "print(\"Packages Loaded\")"
   ]
  },
  {
   "cell_type": "markdown",
   "source": [
    "Defining the source file\n",
    "Using ~ to provide relative path irrespective of the machine"
   ],
   "metadata": {
    "collapsed": false
   }
  },
  {
   "cell_type": "code",
   "execution_count": 2,
   "outputs": [
    {
     "data": {
      "text/plain": "        UID iso2 iso3  code3    FIPS    Admin2 Province_State Country_Region  \\\n0  84001001   US  USA    840  1001.0   Autauga        Alabama             US   \n1  84001003   US  USA    840  1003.0   Baldwin        Alabama             US   \n2  84001005   US  USA    840  1005.0   Barbour        Alabama             US   \n3  84001007   US  USA    840  1007.0      Bibb        Alabama             US   \n4  84001009   US  USA    840  1009.0    Blount        Alabama             US   \n5  84001011   US  USA    840  1011.0   Bullock        Alabama             US   \n6  84001013   US  USA    840  1013.0    Butler        Alabama             US   \n7  84001015   US  USA    840  1015.0   Calhoun        Alabama             US   \n8  84001017   US  USA    840  1017.0  Chambers        Alabama             US   \n9  84001019   US  USA    840  1019.0  Cherokee        Alabama             US   \n\n         Lat      Long_  ... 8/20/20  8/21/20  8/22/20  8/23/20  8/24/20  \\\n0  32.539527 -86.644082  ...      22       22       22       22       22   \n1  30.727750 -87.722071  ...      31       32       32       32       32   \n2  31.868263 -85.387129  ...       7        7        7        7        7   \n3  32.996421 -87.125115  ...       6        6        6        6        6   \n4  33.982109 -86.567906  ...       5        6        6        6        6   \n5  32.100305 -85.712655  ...      13       13       13       13       13   \n6  31.753001 -86.680575  ...      36       36       36       36       36   \n7  33.774837 -85.826304  ...      23       23       23       23       23   \n8  32.913601 -85.390727  ...      38       38       38       38       38   \n9  34.178060 -85.606390  ...       9        9        9        9        9   \n\n   8/25/20  8/26/20  8/27/20  8/28/20  8/29/20  \n0       22       22       22       22       22  \n1       32       33       34       35       36  \n2        7        7        7        7        7  \n3        6        5        5        5        6  \n4        6        7        7        9        9  \n5       13       13       13       13       13  \n6       36       36       36       36       36  \n7       24       25       26       27       29  \n8       38       38       38       39       39  \n9        9        9       11       11       11  \n\n[10 rows x 233 columns]",
      "text/html": "<div>\n<style scoped>\n    .dataframe tbody tr th:only-of-type {\n        vertical-align: middle;\n    }\n\n    .dataframe tbody tr th {\n        vertical-align: top;\n    }\n\n    .dataframe thead th {\n        text-align: right;\n    }\n</style>\n<table border=\"1\" class=\"dataframe\">\n  <thead>\n    <tr style=\"text-align: right;\">\n      <th></th>\n      <th>UID</th>\n      <th>iso2</th>\n      <th>iso3</th>\n      <th>code3</th>\n      <th>FIPS</th>\n      <th>Admin2</th>\n      <th>Province_State</th>\n      <th>Country_Region</th>\n      <th>Lat</th>\n      <th>Long_</th>\n      <th>...</th>\n      <th>8/20/20</th>\n      <th>8/21/20</th>\n      <th>8/22/20</th>\n      <th>8/23/20</th>\n      <th>8/24/20</th>\n      <th>8/25/20</th>\n      <th>8/26/20</th>\n      <th>8/27/20</th>\n      <th>8/28/20</th>\n      <th>8/29/20</th>\n    </tr>\n  </thead>\n  <tbody>\n    <tr>\n      <th>0</th>\n      <td>84001001</td>\n      <td>US</td>\n      <td>USA</td>\n      <td>840</td>\n      <td>1001.0</td>\n      <td>Autauga</td>\n      <td>Alabama</td>\n      <td>US</td>\n      <td>32.539527</td>\n      <td>-86.644082</td>\n      <td>...</td>\n      <td>22</td>\n      <td>22</td>\n      <td>22</td>\n      <td>22</td>\n      <td>22</td>\n      <td>22</td>\n      <td>22</td>\n      <td>22</td>\n      <td>22</td>\n      <td>22</td>\n    </tr>\n    <tr>\n      <th>1</th>\n      <td>84001003</td>\n      <td>US</td>\n      <td>USA</td>\n      <td>840</td>\n      <td>1003.0</td>\n      <td>Baldwin</td>\n      <td>Alabama</td>\n      <td>US</td>\n      <td>30.727750</td>\n      <td>-87.722071</td>\n      <td>...</td>\n      <td>31</td>\n      <td>32</td>\n      <td>32</td>\n      <td>32</td>\n      <td>32</td>\n      <td>32</td>\n      <td>33</td>\n      <td>34</td>\n      <td>35</td>\n      <td>36</td>\n    </tr>\n    <tr>\n      <th>2</th>\n      <td>84001005</td>\n      <td>US</td>\n      <td>USA</td>\n      <td>840</td>\n      <td>1005.0</td>\n      <td>Barbour</td>\n      <td>Alabama</td>\n      <td>US</td>\n      <td>31.868263</td>\n      <td>-85.387129</td>\n      <td>...</td>\n      <td>7</td>\n      <td>7</td>\n      <td>7</td>\n      <td>7</td>\n      <td>7</td>\n      <td>7</td>\n      <td>7</td>\n      <td>7</td>\n      <td>7</td>\n      <td>7</td>\n    </tr>\n    <tr>\n      <th>3</th>\n      <td>84001007</td>\n      <td>US</td>\n      <td>USA</td>\n      <td>840</td>\n      <td>1007.0</td>\n      <td>Bibb</td>\n      <td>Alabama</td>\n      <td>US</td>\n      <td>32.996421</td>\n      <td>-87.125115</td>\n      <td>...</td>\n      <td>6</td>\n      <td>6</td>\n      <td>6</td>\n      <td>6</td>\n      <td>6</td>\n      <td>6</td>\n      <td>5</td>\n      <td>5</td>\n      <td>5</td>\n      <td>6</td>\n    </tr>\n    <tr>\n      <th>4</th>\n      <td>84001009</td>\n      <td>US</td>\n      <td>USA</td>\n      <td>840</td>\n      <td>1009.0</td>\n      <td>Blount</td>\n      <td>Alabama</td>\n      <td>US</td>\n      <td>33.982109</td>\n      <td>-86.567906</td>\n      <td>...</td>\n      <td>5</td>\n      <td>6</td>\n      <td>6</td>\n      <td>6</td>\n      <td>6</td>\n      <td>6</td>\n      <td>7</td>\n      <td>7</td>\n      <td>9</td>\n      <td>9</td>\n    </tr>\n    <tr>\n      <th>5</th>\n      <td>84001011</td>\n      <td>US</td>\n      <td>USA</td>\n      <td>840</td>\n      <td>1011.0</td>\n      <td>Bullock</td>\n      <td>Alabama</td>\n      <td>US</td>\n      <td>32.100305</td>\n      <td>-85.712655</td>\n      <td>...</td>\n      <td>13</td>\n      <td>13</td>\n      <td>13</td>\n      <td>13</td>\n      <td>13</td>\n      <td>13</td>\n      <td>13</td>\n      <td>13</td>\n      <td>13</td>\n      <td>13</td>\n    </tr>\n    <tr>\n      <th>6</th>\n      <td>84001013</td>\n      <td>US</td>\n      <td>USA</td>\n      <td>840</td>\n      <td>1013.0</td>\n      <td>Butler</td>\n      <td>Alabama</td>\n      <td>US</td>\n      <td>31.753001</td>\n      <td>-86.680575</td>\n      <td>...</td>\n      <td>36</td>\n      <td>36</td>\n      <td>36</td>\n      <td>36</td>\n      <td>36</td>\n      <td>36</td>\n      <td>36</td>\n      <td>36</td>\n      <td>36</td>\n      <td>36</td>\n    </tr>\n    <tr>\n      <th>7</th>\n      <td>84001015</td>\n      <td>US</td>\n      <td>USA</td>\n      <td>840</td>\n      <td>1015.0</td>\n      <td>Calhoun</td>\n      <td>Alabama</td>\n      <td>US</td>\n      <td>33.774837</td>\n      <td>-85.826304</td>\n      <td>...</td>\n      <td>23</td>\n      <td>23</td>\n      <td>23</td>\n      <td>23</td>\n      <td>23</td>\n      <td>24</td>\n      <td>25</td>\n      <td>26</td>\n      <td>27</td>\n      <td>29</td>\n    </tr>\n    <tr>\n      <th>8</th>\n      <td>84001017</td>\n      <td>US</td>\n      <td>USA</td>\n      <td>840</td>\n      <td>1017.0</td>\n      <td>Chambers</td>\n      <td>Alabama</td>\n      <td>US</td>\n      <td>32.913601</td>\n      <td>-85.390727</td>\n      <td>...</td>\n      <td>38</td>\n      <td>38</td>\n      <td>38</td>\n      <td>38</td>\n      <td>38</td>\n      <td>38</td>\n      <td>38</td>\n      <td>38</td>\n      <td>39</td>\n      <td>39</td>\n    </tr>\n    <tr>\n      <th>9</th>\n      <td>84001019</td>\n      <td>US</td>\n      <td>USA</td>\n      <td>840</td>\n      <td>1019.0</td>\n      <td>Cherokee</td>\n      <td>Alabama</td>\n      <td>US</td>\n      <td>34.178060</td>\n      <td>-85.606390</td>\n      <td>...</td>\n      <td>9</td>\n      <td>9</td>\n      <td>9</td>\n      <td>9</td>\n      <td>9</td>\n      <td>9</td>\n      <td>9</td>\n      <td>11</td>\n      <td>11</td>\n      <td>11</td>\n    </tr>\n  </tbody>\n</table>\n<p>10 rows × 233 columns</p>\n</div>"
     },
     "metadata": {},
     "output_type": "execute_result",
     "execution_count": 2
    }
   ],
   "source": [
    "## time series covid-19 confirmed case \n",
    "PROJECT_ROOT_DORECTORY = '~/Documents/FALL_2020/INTRO_DATASCIENCE/WEEKLY_PROJECT/week_one'\n",
    "\n",
    "us_confirmed_case = pd.read_csv(PROJECT_ROOT_DORECTORY + \"/data/raw/time_series_covid_19_confirmed_US.csv\")\n",
    "us_confirmed_case.head(10)\n",
    "\n",
    "us_confirmed_death = pd.read_csv(PROJECT_ROOT_DORECTORY + \"/data/raw/time_series_covid_19_deaths_US.csv\")\n",
    "us_confirmed_death.head(10)"
   ],
   "metadata": {
    "collapsed": false,
    "pycharm": {
     "name": "#%%\n",
     "is_executing": false
    }
   }
  },
  {
   "cell_type": "markdown",
   "source": [
    "First 11 columns are string type and they are common in both of the files, so they are dropped before dividing by the \n",
    "another df. Later those colums were combined to generate the file in the original format. It was done to preserve the\n",
    "data information contained on it. \n",
    "\n",
    "Generated .csv file is written in the desinated o/p folder "
   ],
   "metadata": {
    "collapsed": false
   }
  },
  {
   "cell_type": "code",
   "execution_count": 3,
   "outputs": [
    {
     "name": "stdout",
     "text": [
      "   1/22/20  1/23/20  1/24/20  1/25/20  1/26/20  1/27/20  1/28/20  1/29/20  \\\n",
      "0      0.0      0.0      0.0      0.0      0.0      0.0      0.0      0.0   \n",
      "1      0.0      0.0      0.0      0.0      0.0      0.0      0.0      0.0   \n",
      "2      0.0      0.0      0.0      0.0      0.0      0.0      0.0      0.0   \n",
      "3      0.0      0.0      0.0      0.0      0.0      0.0      0.0      0.0   \n",
      "4      0.0      0.0      0.0      0.0      0.0      0.0      0.0      0.0   \n",
      "5      0.0      0.0      0.0      0.0      0.0      0.0      0.0      0.0   \n",
      "6      0.0      0.0      0.0      0.0      0.0      0.0      0.0      0.0   \n",
      "7      0.0      0.0      0.0      0.0      0.0      0.0      0.0      0.0   \n",
      "8      0.0      0.0      0.0      0.0      0.0      0.0      0.0      0.0   \n",
      "9      0.0      0.0      0.0      0.0      0.0      0.0      0.0      0.0   \n",
      "\n",
      "   1/30/20  1/31/20  ...  8/28/20  8/29/20  8/3/20  8/4/20  8/5/20  8/6/20  \\\n",
      "0      0.0      0.0  ...    0.017    0.017   0.020   0.019   0.020   0.020   \n",
      "1      0.0      0.0  ...    0.008    0.008   0.007   0.007   0.007   0.007   \n",
      "2      0.0      0.0  ...    0.011    0.011   0.009   0.009   0.009   0.009   \n",
      "3      0.0      0.0  ...    0.010    0.011   0.008   0.008   0.010   0.010   \n",
      "4      0.0      0.0  ...    0.009    0.009   0.004   0.004   0.004   0.004   \n",
      "5      0.0      0.0  ...    0.025    0.024   0.025   0.025   0.025   0.024   \n",
      "6      0.0      0.0  ...    0.044    0.044   0.047   0.047   0.046   0.046   \n",
      "7      0.0      0.0  ...    0.012    0.013   0.006   0.008   0.008   0.008   \n",
      "8      0.0      0.0  ...    0.045    0.045   0.046   0.046   0.046   0.046   \n",
      "9      0.0      0.0  ...    0.033    0.032   0.029   0.028   0.028   0.027   \n",
      "\n",
      "   8/7/20  8/8/20  8/9/20  Population  \n",
      "0   0.020   0.019   0.018         NaN  \n",
      "1   0.007   0.007   0.007         NaN  \n",
      "2   0.009   0.009   0.009         NaN  \n",
      "3   0.010   0.012   0.011         NaN  \n",
      "4   0.004   0.005   0.005         NaN  \n",
      "5   0.024   0.024   0.024         NaN  \n",
      "6   0.046   0.047   0.047         NaN  \n",
      "7   0.008   0.007   0.008         NaN  \n",
      "8   0.046   0.045   0.045         NaN  \n",
      "9   0.027   0.026   0.026         NaN  \n",
      "\n",
      "[10 rows x 222 columns]\n"
     ],
     "output_type": "stream"
    },
    {
     "data": {
      "text/plain": "        UID iso2 iso3  code3    FIPS    Admin2 Province_State Country_Region  \\\n0  84001001   US  USA    840  1001.0   Autauga        Alabama             US   \n1  84001003   US  USA    840  1003.0   Baldwin        Alabama             US   \n2  84001005   US  USA    840  1005.0   Barbour        Alabama             US   \n3  84001007   US  USA    840  1007.0      Bibb        Alabama             US   \n4  84001009   US  USA    840  1009.0    Blount        Alabama             US   \n5  84001011   US  USA    840  1011.0   Bullock        Alabama             US   \n6  84001013   US  USA    840  1013.0    Butler        Alabama             US   \n7  84001015   US  USA    840  1015.0   Calhoun        Alabama             US   \n8  84001017   US  USA    840  1017.0  Chambers        Alabama             US   \n9  84001019   US  USA    840  1019.0  Cherokee        Alabama             US   \n\n         Lat      Long_  ... 8/28/20  8/29/20  8/3/20  8/4/20  8/5/20  8/6/20  \\\n0  32.539527 -86.644082  ...   0.017    0.017   0.020   0.019   0.020   0.020   \n1  30.727750 -87.722071  ...   0.008    0.008   0.007   0.007   0.007   0.007   \n2  31.868263 -85.387129  ...   0.011    0.011   0.009   0.009   0.009   0.009   \n3  32.996421 -87.125115  ...   0.010    0.011   0.008   0.008   0.010   0.010   \n4  33.982109 -86.567906  ...   0.009    0.009   0.004   0.004   0.004   0.004   \n5  32.100305 -85.712655  ...   0.025    0.024   0.025   0.025   0.025   0.024   \n6  31.753001 -86.680575  ...   0.044    0.044   0.047   0.047   0.046   0.046   \n7  33.774837 -85.826304  ...   0.012    0.013   0.006   0.008   0.008   0.008   \n8  32.913601 -85.390727  ...   0.045    0.045   0.046   0.046   0.046   0.046   \n9  34.178060 -85.606390  ...   0.033    0.032   0.029   0.028   0.028   0.027   \n\n   8/7/20  8/8/20  8/9/20  Population  \n0   0.020   0.019   0.018         NaN  \n1   0.007   0.007   0.007         NaN  \n2   0.009   0.009   0.009         NaN  \n3   0.010   0.012   0.011         NaN  \n4   0.004   0.005   0.005         NaN  \n5   0.024   0.024   0.024         NaN  \n6   0.046   0.047   0.047         NaN  \n7   0.008   0.007   0.008         NaN  \n8   0.046   0.045   0.045         NaN  \n9   0.027   0.026   0.026         NaN  \n\n[10 rows x 233 columns]",
      "text/html": "<div>\n<style scoped>\n    .dataframe tbody tr th:only-of-type {\n        vertical-align: middle;\n    }\n\n    .dataframe tbody tr th {\n        vertical-align: top;\n    }\n\n    .dataframe thead th {\n        text-align: right;\n    }\n</style>\n<table border=\"1\" class=\"dataframe\">\n  <thead>\n    <tr style=\"text-align: right;\">\n      <th></th>\n      <th>UID</th>\n      <th>iso2</th>\n      <th>iso3</th>\n      <th>code3</th>\n      <th>FIPS</th>\n      <th>Admin2</th>\n      <th>Province_State</th>\n      <th>Country_Region</th>\n      <th>Lat</th>\n      <th>Long_</th>\n      <th>...</th>\n      <th>8/28/20</th>\n      <th>8/29/20</th>\n      <th>8/3/20</th>\n      <th>8/4/20</th>\n      <th>8/5/20</th>\n      <th>8/6/20</th>\n      <th>8/7/20</th>\n      <th>8/8/20</th>\n      <th>8/9/20</th>\n      <th>Population</th>\n    </tr>\n  </thead>\n  <tbody>\n    <tr>\n      <th>0</th>\n      <td>84001001</td>\n      <td>US</td>\n      <td>USA</td>\n      <td>840</td>\n      <td>1001.0</td>\n      <td>Autauga</td>\n      <td>Alabama</td>\n      <td>US</td>\n      <td>32.539527</td>\n      <td>-86.644082</td>\n      <td>...</td>\n      <td>0.017</td>\n      <td>0.017</td>\n      <td>0.020</td>\n      <td>0.019</td>\n      <td>0.020</td>\n      <td>0.020</td>\n      <td>0.020</td>\n      <td>0.019</td>\n      <td>0.018</td>\n      <td>NaN</td>\n    </tr>\n    <tr>\n      <th>1</th>\n      <td>84001003</td>\n      <td>US</td>\n      <td>USA</td>\n      <td>840</td>\n      <td>1003.0</td>\n      <td>Baldwin</td>\n      <td>Alabama</td>\n      <td>US</td>\n      <td>30.727750</td>\n      <td>-87.722071</td>\n      <td>...</td>\n      <td>0.008</td>\n      <td>0.008</td>\n      <td>0.007</td>\n      <td>0.007</td>\n      <td>0.007</td>\n      <td>0.007</td>\n      <td>0.007</td>\n      <td>0.007</td>\n      <td>0.007</td>\n      <td>NaN</td>\n    </tr>\n    <tr>\n      <th>2</th>\n      <td>84001005</td>\n      <td>US</td>\n      <td>USA</td>\n      <td>840</td>\n      <td>1005.0</td>\n      <td>Barbour</td>\n      <td>Alabama</td>\n      <td>US</td>\n      <td>31.868263</td>\n      <td>-85.387129</td>\n      <td>...</td>\n      <td>0.011</td>\n      <td>0.011</td>\n      <td>0.009</td>\n      <td>0.009</td>\n      <td>0.009</td>\n      <td>0.009</td>\n      <td>0.009</td>\n      <td>0.009</td>\n      <td>0.009</td>\n      <td>NaN</td>\n    </tr>\n    <tr>\n      <th>3</th>\n      <td>84001007</td>\n      <td>US</td>\n      <td>USA</td>\n      <td>840</td>\n      <td>1007.0</td>\n      <td>Bibb</td>\n      <td>Alabama</td>\n      <td>US</td>\n      <td>32.996421</td>\n      <td>-87.125115</td>\n      <td>...</td>\n      <td>0.010</td>\n      <td>0.011</td>\n      <td>0.008</td>\n      <td>0.008</td>\n      <td>0.010</td>\n      <td>0.010</td>\n      <td>0.010</td>\n      <td>0.012</td>\n      <td>0.011</td>\n      <td>NaN</td>\n    </tr>\n    <tr>\n      <th>4</th>\n      <td>84001009</td>\n      <td>US</td>\n      <td>USA</td>\n      <td>840</td>\n      <td>1009.0</td>\n      <td>Blount</td>\n      <td>Alabama</td>\n      <td>US</td>\n      <td>33.982109</td>\n      <td>-86.567906</td>\n      <td>...</td>\n      <td>0.009</td>\n      <td>0.009</td>\n      <td>0.004</td>\n      <td>0.004</td>\n      <td>0.004</td>\n      <td>0.004</td>\n      <td>0.004</td>\n      <td>0.005</td>\n      <td>0.005</td>\n      <td>NaN</td>\n    </tr>\n    <tr>\n      <th>5</th>\n      <td>84001011</td>\n      <td>US</td>\n      <td>USA</td>\n      <td>840</td>\n      <td>1011.0</td>\n      <td>Bullock</td>\n      <td>Alabama</td>\n      <td>US</td>\n      <td>32.100305</td>\n      <td>-85.712655</td>\n      <td>...</td>\n      <td>0.025</td>\n      <td>0.024</td>\n      <td>0.025</td>\n      <td>0.025</td>\n      <td>0.025</td>\n      <td>0.024</td>\n      <td>0.024</td>\n      <td>0.024</td>\n      <td>0.024</td>\n      <td>NaN</td>\n    </tr>\n    <tr>\n      <th>6</th>\n      <td>84001013</td>\n      <td>US</td>\n      <td>USA</td>\n      <td>840</td>\n      <td>1013.0</td>\n      <td>Butler</td>\n      <td>Alabama</td>\n      <td>US</td>\n      <td>31.753001</td>\n      <td>-86.680575</td>\n      <td>...</td>\n      <td>0.044</td>\n      <td>0.044</td>\n      <td>0.047</td>\n      <td>0.047</td>\n      <td>0.046</td>\n      <td>0.046</td>\n      <td>0.046</td>\n      <td>0.047</td>\n      <td>0.047</td>\n      <td>NaN</td>\n    </tr>\n    <tr>\n      <th>7</th>\n      <td>84001015</td>\n      <td>US</td>\n      <td>USA</td>\n      <td>840</td>\n      <td>1015.0</td>\n      <td>Calhoun</td>\n      <td>Alabama</td>\n      <td>US</td>\n      <td>33.774837</td>\n      <td>-85.826304</td>\n      <td>...</td>\n      <td>0.012</td>\n      <td>0.013</td>\n      <td>0.006</td>\n      <td>0.008</td>\n      <td>0.008</td>\n      <td>0.008</td>\n      <td>0.008</td>\n      <td>0.007</td>\n      <td>0.008</td>\n      <td>NaN</td>\n    </tr>\n    <tr>\n      <th>8</th>\n      <td>84001017</td>\n      <td>US</td>\n      <td>USA</td>\n      <td>840</td>\n      <td>1017.0</td>\n      <td>Chambers</td>\n      <td>Alabama</td>\n      <td>US</td>\n      <td>32.913601</td>\n      <td>-85.390727</td>\n      <td>...</td>\n      <td>0.045</td>\n      <td>0.045</td>\n      <td>0.046</td>\n      <td>0.046</td>\n      <td>0.046</td>\n      <td>0.046</td>\n      <td>0.046</td>\n      <td>0.045</td>\n      <td>0.045</td>\n      <td>NaN</td>\n    </tr>\n    <tr>\n      <th>9</th>\n      <td>84001019</td>\n      <td>US</td>\n      <td>USA</td>\n      <td>840</td>\n      <td>1019.0</td>\n      <td>Cherokee</td>\n      <td>Alabama</td>\n      <td>US</td>\n      <td>34.178060</td>\n      <td>-85.606390</td>\n      <td>...</td>\n      <td>0.033</td>\n      <td>0.032</td>\n      <td>0.029</td>\n      <td>0.028</td>\n      <td>0.028</td>\n      <td>0.027</td>\n      <td>0.027</td>\n      <td>0.026</td>\n      <td>0.026</td>\n      <td>NaN</td>\n    </tr>\n  </tbody>\n</table>\n<p>10 rows × 233 columns</p>\n</div>"
     },
     "metadata": {},
     "output_type": "execute_result",
     "execution_count": 3
    }
   ],
   "source": [
    "# Replacing day wise data with 1 value if no case is cofirmed to handle NaN case\n",
    "us_confirmed_case_day_wise_data = us_confirmed_case.drop(\n",
    "    us_confirmed_case.columns[[0, 1, 2, 3, 4, 5, 6, 7, 8, 9, 10]], 1).replace(0, 1)\n",
    "\n",
    "us_confirmed_death_day_wise_data = us_confirmed_death.drop(\n",
    "    us_confirmed_death.columns[[0, 1, 2, 3, 4, 5, 6, 7, 8, 9, 10]], 1)\n",
    "\n",
    "us_confirmed_death_day_wise_percentage = pd.DataFrame(\n",
    "    us_confirmed_death_day_wise_data / us_confirmed_case_day_wise_data).round(3)\n",
    "\n",
    "print(us_confirmed_death_day_wise_percentage.head(10))\n",
    "# Creating new DF with % value\n",
    "us_confirmed_death_other_data = us_confirmed_death[\n",
    "    [\"UID\", \"iso2\", \"iso3\", \"code3\", \"FIPS\", \"Admin2\", \"Province_State\", \"Country_Region\", \"Lat\", \"Long_\",\n",
    "     \"Combined_Key\"]]\n",
    "\n",
    "# Creating a new % data frame\n",
    "merged_df = pd.concat([us_confirmed_death_other_data, us_confirmed_death_day_wise_percentage], axis=1)\n",
    "merged_df.to_csv(PROJECT_ROOT_DORECTORY + \"/data/processed/time_series_covid_19_deaths_US_percentage.csv\")\n",
    "merged_df.head(10)\n"
   ],
   "metadata": {
    "collapsed": false,
    "pycharm": {
     "name": "#%%\n",
     "is_executing": false
    }
   }
  }
 ],
 "metadata": {
  "kernelspec": {
   "display_name": "Python 3",
   "language": "python",
   "name": "python3"
  },
  "language_info": {
   "codemirror_mode": {
    "name": "ipython",
    "version": 2
   },
   "file_extension": ".py",
   "mimetype": "text/x-python",
   "name": "python",
   "nbconvert_exporter": "python",
   "pygments_lexer": "ipython2",
   "version": "2.7.6"
  },
  "pycharm": {
   "stem_cell": {
    "cell_type": "raw",
    "source": [],
    "metadata": {
     "collapsed": false
    }
   }
  }
 },
 "nbformat": 4,
 "nbformat_minor": 0
}