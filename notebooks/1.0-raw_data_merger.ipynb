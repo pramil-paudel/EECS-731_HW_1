{
 "cells": [
  {
   "cell_type": "markdown",
   "source": [
    "@Author : Pramil Paudel \n",
    "IDE : Pycharm"
   ],
   "metadata": {
    "collapsed": false
   }
  },
  {
   "cell_type": "markdown",
   "source": [
    "Importing the required modules "
   ],
   "metadata": {
    "collapsed": false
   }
  },
  {
   "cell_type": "code",
   "execution_count": 4,
   "metadata": {
    "collapsed": true,
    "pycharm": {
     "is_executing": false
    }
   },
   "outputs": [
    {
     "name": "stdout",
     "text": [
      "Packages Loaded\n"
     ],
     "output_type": "stream"
    }
   ],
   "source": [
    "import os\n",
    "import pandas as pd\n",
    "import numpy as np\n",
    "import matplotlib.pyplot as plt\n",
    "from matplotlib import pyplot as plt\n",
    "print(\"Packages Loaded\")"
   ]
  },
  {
   "cell_type": "markdown",
   "source": [
    "Defining the source file\n",
    "Using ~ to provide relative path irrespective of the machine"
   ],
   "metadata": {
    "collapsed": false
   }
  },
  {
   "cell_type": "code",
   "execution_count": 6,
   "outputs": [
    {
     "data": {
      "text/plain": "        UID iso2 iso3  code3    FIPS    Admin2 Province_State Country_Region  \\\n0  84001001   US  USA    840  1001.0   Autauga        Alabama             US   \n1  84001003   US  USA    840  1003.0   Baldwin        Alabama             US   \n2  84001005   US  USA    840  1005.0   Barbour        Alabama             US   \n3  84001007   US  USA    840  1007.0      Bibb        Alabama             US   \n4  84001009   US  USA    840  1009.0    Blount        Alabama             US   \n5  84001011   US  USA    840  1011.0   Bullock        Alabama             US   \n6  84001013   US  USA    840  1013.0    Butler        Alabama             US   \n7  84001015   US  USA    840  1015.0   Calhoun        Alabama             US   \n8  84001017   US  USA    840  1017.0  Chambers        Alabama             US   \n9  84001019   US  USA    840  1019.0  Cherokee        Alabama             US   \n\n         Lat      Long_  ... 8/20/20  8/21/20  8/22/20  8/23/20  8/24/20  \\\n0  32.539527 -86.644082  ...    1240     1255     1264     1266     1286   \n1  30.727750 -87.722071  ...    3957     3997     4037     4069     4083   \n2  31.868263 -85.387129  ...     619      622      626      629      633   \n3  32.996421 -87.125115  ...     494      501      503      510      510   \n4  33.982109 -86.567906  ...     912      930      931      934      946   \n5  32.100305 -85.712655  ...     527      528      527      527      527   \n6  31.753001 -86.680575  ...     796      802      802      804      805   \n7  33.774837 -85.826304  ...    2072     2105     2134     2144     2168   \n8  32.913601 -85.390727  ...     861      865      869      870      870   \n9  34.178060 -85.606390  ...     319      324      330      331      336   \n\n   8/25/20  8/26/20  8/27/20  8/28/20  8/29/20  \n0     1286     1281     1284     1296     1309  \n1     4100     4166     4199     4230     4307  \n2      628      616      614      620      624  \n3      511      513      515      517      523  \n4      967      968      979      983     1004  \n5      527      526      527      530      535  \n6      804      809      813      814      827  \n7     2179     2215     2225     2255     2316  \n8      863      862      860      863      867  \n9      334      331      336      336      341  \n\n[10 rows x 232 columns]",
      "text/html": "<div>\n<style scoped>\n    .dataframe tbody tr th:only-of-type {\n        vertical-align: middle;\n    }\n\n    .dataframe tbody tr th {\n        vertical-align: top;\n    }\n\n    .dataframe thead th {\n        text-align: right;\n    }\n</style>\n<table border=\"1\" class=\"dataframe\">\n  <thead>\n    <tr style=\"text-align: right;\">\n      <th></th>\n      <th>UID</th>\n      <th>iso2</th>\n      <th>iso3</th>\n      <th>code3</th>\n      <th>FIPS</th>\n      <th>Admin2</th>\n      <th>Province_State</th>\n      <th>Country_Region</th>\n      <th>Lat</th>\n      <th>Long_</th>\n      <th>...</th>\n      <th>8/20/20</th>\n      <th>8/21/20</th>\n      <th>8/22/20</th>\n      <th>8/23/20</th>\n      <th>8/24/20</th>\n      <th>8/25/20</th>\n      <th>8/26/20</th>\n      <th>8/27/20</th>\n      <th>8/28/20</th>\n      <th>8/29/20</th>\n    </tr>\n  </thead>\n  <tbody>\n    <tr>\n      <th>0</th>\n      <td>84001001</td>\n      <td>US</td>\n      <td>USA</td>\n      <td>840</td>\n      <td>1001.0</td>\n      <td>Autauga</td>\n      <td>Alabama</td>\n      <td>US</td>\n      <td>32.539527</td>\n      <td>-86.644082</td>\n      <td>...</td>\n      <td>1240</td>\n      <td>1255</td>\n      <td>1264</td>\n      <td>1266</td>\n      <td>1286</td>\n      <td>1286</td>\n      <td>1281</td>\n      <td>1284</td>\n      <td>1296</td>\n      <td>1309</td>\n    </tr>\n    <tr>\n      <th>1</th>\n      <td>84001003</td>\n      <td>US</td>\n      <td>USA</td>\n      <td>840</td>\n      <td>1003.0</td>\n      <td>Baldwin</td>\n      <td>Alabama</td>\n      <td>US</td>\n      <td>30.727750</td>\n      <td>-87.722071</td>\n      <td>...</td>\n      <td>3957</td>\n      <td>3997</td>\n      <td>4037</td>\n      <td>4069</td>\n      <td>4083</td>\n      <td>4100</td>\n      <td>4166</td>\n      <td>4199</td>\n      <td>4230</td>\n      <td>4307</td>\n    </tr>\n    <tr>\n      <th>2</th>\n      <td>84001005</td>\n      <td>US</td>\n      <td>USA</td>\n      <td>840</td>\n      <td>1005.0</td>\n      <td>Barbour</td>\n      <td>Alabama</td>\n      <td>US</td>\n      <td>31.868263</td>\n      <td>-85.387129</td>\n      <td>...</td>\n      <td>619</td>\n      <td>622</td>\n      <td>626</td>\n      <td>629</td>\n      <td>633</td>\n      <td>628</td>\n      <td>616</td>\n      <td>614</td>\n      <td>620</td>\n      <td>624</td>\n    </tr>\n    <tr>\n      <th>3</th>\n      <td>84001007</td>\n      <td>US</td>\n      <td>USA</td>\n      <td>840</td>\n      <td>1007.0</td>\n      <td>Bibb</td>\n      <td>Alabama</td>\n      <td>US</td>\n      <td>32.996421</td>\n      <td>-87.125115</td>\n      <td>...</td>\n      <td>494</td>\n      <td>501</td>\n      <td>503</td>\n      <td>510</td>\n      <td>510</td>\n      <td>511</td>\n      <td>513</td>\n      <td>515</td>\n      <td>517</td>\n      <td>523</td>\n    </tr>\n    <tr>\n      <th>4</th>\n      <td>84001009</td>\n      <td>US</td>\n      <td>USA</td>\n      <td>840</td>\n      <td>1009.0</td>\n      <td>Blount</td>\n      <td>Alabama</td>\n      <td>US</td>\n      <td>33.982109</td>\n      <td>-86.567906</td>\n      <td>...</td>\n      <td>912</td>\n      <td>930</td>\n      <td>931</td>\n      <td>934</td>\n      <td>946</td>\n      <td>967</td>\n      <td>968</td>\n      <td>979</td>\n      <td>983</td>\n      <td>1004</td>\n    </tr>\n    <tr>\n      <th>5</th>\n      <td>84001011</td>\n      <td>US</td>\n      <td>USA</td>\n      <td>840</td>\n      <td>1011.0</td>\n      <td>Bullock</td>\n      <td>Alabama</td>\n      <td>US</td>\n      <td>32.100305</td>\n      <td>-85.712655</td>\n      <td>...</td>\n      <td>527</td>\n      <td>528</td>\n      <td>527</td>\n      <td>527</td>\n      <td>527</td>\n      <td>527</td>\n      <td>526</td>\n      <td>527</td>\n      <td>530</td>\n      <td>535</td>\n    </tr>\n    <tr>\n      <th>6</th>\n      <td>84001013</td>\n      <td>US</td>\n      <td>USA</td>\n      <td>840</td>\n      <td>1013.0</td>\n      <td>Butler</td>\n      <td>Alabama</td>\n      <td>US</td>\n      <td>31.753001</td>\n      <td>-86.680575</td>\n      <td>...</td>\n      <td>796</td>\n      <td>802</td>\n      <td>802</td>\n      <td>804</td>\n      <td>805</td>\n      <td>804</td>\n      <td>809</td>\n      <td>813</td>\n      <td>814</td>\n      <td>827</td>\n    </tr>\n    <tr>\n      <th>7</th>\n      <td>84001015</td>\n      <td>US</td>\n      <td>USA</td>\n      <td>840</td>\n      <td>1015.0</td>\n      <td>Calhoun</td>\n      <td>Alabama</td>\n      <td>US</td>\n      <td>33.774837</td>\n      <td>-85.826304</td>\n      <td>...</td>\n      <td>2072</td>\n      <td>2105</td>\n      <td>2134</td>\n      <td>2144</td>\n      <td>2168</td>\n      <td>2179</td>\n      <td>2215</td>\n      <td>2225</td>\n      <td>2255</td>\n      <td>2316</td>\n    </tr>\n    <tr>\n      <th>8</th>\n      <td>84001017</td>\n      <td>US</td>\n      <td>USA</td>\n      <td>840</td>\n      <td>1017.0</td>\n      <td>Chambers</td>\n      <td>Alabama</td>\n      <td>US</td>\n      <td>32.913601</td>\n      <td>-85.390727</td>\n      <td>...</td>\n      <td>861</td>\n      <td>865</td>\n      <td>869</td>\n      <td>870</td>\n      <td>870</td>\n      <td>863</td>\n      <td>862</td>\n      <td>860</td>\n      <td>863</td>\n      <td>867</td>\n    </tr>\n    <tr>\n      <th>9</th>\n      <td>84001019</td>\n      <td>US</td>\n      <td>USA</td>\n      <td>840</td>\n      <td>1019.0</td>\n      <td>Cherokee</td>\n      <td>Alabama</td>\n      <td>US</td>\n      <td>34.178060</td>\n      <td>-85.606390</td>\n      <td>...</td>\n      <td>319</td>\n      <td>324</td>\n      <td>330</td>\n      <td>331</td>\n      <td>336</td>\n      <td>334</td>\n      <td>331</td>\n      <td>336</td>\n      <td>336</td>\n      <td>341</td>\n    </tr>\n  </tbody>\n</table>\n<p>10 rows × 232 columns</p>\n</div>"
     },
     "metadata": {},
     "output_type": "execute_result",
     "execution_count": 6
    },
    {
     "data": {
      "text/plain": "        UID iso2 iso3  code3    FIPS    Admin2 Province_State Country_Region  \\\n0  84001001   US  USA    840  1001.0   Autauga        Alabama             US   \n1  84001003   US  USA    840  1003.0   Baldwin        Alabama             US   \n2  84001005   US  USA    840  1005.0   Barbour        Alabama             US   \n3  84001007   US  USA    840  1007.0      Bibb        Alabama             US   \n4  84001009   US  USA    840  1009.0    Blount        Alabama             US   \n5  84001011   US  USA    840  1011.0   Bullock        Alabama             US   \n6  84001013   US  USA    840  1013.0    Butler        Alabama             US   \n7  84001015   US  USA    840  1015.0   Calhoun        Alabama             US   \n8  84001017   US  USA    840  1017.0  Chambers        Alabama             US   \n9  84001019   US  USA    840  1019.0  Cherokee        Alabama             US   \n\n         Lat      Long_  ... 8/20/20  8/21/20  8/22/20  8/23/20  8/24/20  \\\n0  32.539527 -86.644082  ...      22       22       22       22       22   \n1  30.727750 -87.722071  ...      31       32       32       32       32   \n2  31.868263 -85.387129  ...       7        7        7        7        7   \n3  32.996421 -87.125115  ...       6        6        6        6        6   \n4  33.982109 -86.567906  ...       5        6        6        6        6   \n5  32.100305 -85.712655  ...      13       13       13       13       13   \n6  31.753001 -86.680575  ...      36       36       36       36       36   \n7  33.774837 -85.826304  ...      23       23       23       23       23   \n8  32.913601 -85.390727  ...      38       38       38       38       38   \n9  34.178060 -85.606390  ...       9        9        9        9        9   \n\n   8/25/20  8/26/20  8/27/20  8/28/20  8/29/20  \n0       22       22       22       22       22  \n1       32       33       34       35       36  \n2        7        7        7        7        7  \n3        6        5        5        5        6  \n4        6        7        7        9        9  \n5       13       13       13       13       13  \n6       36       36       36       36       36  \n7       24       25       26       27       29  \n8       38       38       38       39       39  \n9        9        9       11       11       11  \n\n[10 rows x 233 columns]",
      "text/html": "<div>\n<style scoped>\n    .dataframe tbody tr th:only-of-type {\n        vertical-align: middle;\n    }\n\n    .dataframe tbody tr th {\n        vertical-align: top;\n    }\n\n    .dataframe thead th {\n        text-align: right;\n    }\n</style>\n<table border=\"1\" class=\"dataframe\">\n  <thead>\n    <tr style=\"text-align: right;\">\n      <th></th>\n      <th>UID</th>\n      <th>iso2</th>\n      <th>iso3</th>\n      <th>code3</th>\n      <th>FIPS</th>\n      <th>Admin2</th>\n      <th>Province_State</th>\n      <th>Country_Region</th>\n      <th>Lat</th>\n      <th>Long_</th>\n      <th>...</th>\n      <th>8/20/20</th>\n      <th>8/21/20</th>\n      <th>8/22/20</th>\n      <th>8/23/20</th>\n      <th>8/24/20</th>\n      <th>8/25/20</th>\n      <th>8/26/20</th>\n      <th>8/27/20</th>\n      <th>8/28/20</th>\n      <th>8/29/20</th>\n    </tr>\n  </thead>\n  <tbody>\n    <tr>\n      <th>0</th>\n      <td>84001001</td>\n      <td>US</td>\n      <td>USA</td>\n      <td>840</td>\n      <td>1001.0</td>\n      <td>Autauga</td>\n      <td>Alabama</td>\n      <td>US</td>\n      <td>32.539527</td>\n      <td>-86.644082</td>\n      <td>...</td>\n      <td>22</td>\n      <td>22</td>\n      <td>22</td>\n      <td>22</td>\n      <td>22</td>\n      <td>22</td>\n      <td>22</td>\n      <td>22</td>\n      <td>22</td>\n      <td>22</td>\n    </tr>\n    <tr>\n      <th>1</th>\n      <td>84001003</td>\n      <td>US</td>\n      <td>USA</td>\n      <td>840</td>\n      <td>1003.0</td>\n      <td>Baldwin</td>\n      <td>Alabama</td>\n      <td>US</td>\n      <td>30.727750</td>\n      <td>-87.722071</td>\n      <td>...</td>\n      <td>31</td>\n      <td>32</td>\n      <td>32</td>\n      <td>32</td>\n      <td>32</td>\n      <td>32</td>\n      <td>33</td>\n      <td>34</td>\n      <td>35</td>\n      <td>36</td>\n    </tr>\n    <tr>\n      <th>2</th>\n      <td>84001005</td>\n      <td>US</td>\n      <td>USA</td>\n      <td>840</td>\n      <td>1005.0</td>\n      <td>Barbour</td>\n      <td>Alabama</td>\n      <td>US</td>\n      <td>31.868263</td>\n      <td>-85.387129</td>\n      <td>...</td>\n      <td>7</td>\n      <td>7</td>\n      <td>7</td>\n      <td>7</td>\n      <td>7</td>\n      <td>7</td>\n      <td>7</td>\n      <td>7</td>\n      <td>7</td>\n      <td>7</td>\n    </tr>\n    <tr>\n      <th>3</th>\n      <td>84001007</td>\n      <td>US</td>\n      <td>USA</td>\n      <td>840</td>\n      <td>1007.0</td>\n      <td>Bibb</td>\n      <td>Alabama</td>\n      <td>US</td>\n      <td>32.996421</td>\n      <td>-87.125115</td>\n      <td>...</td>\n      <td>6</td>\n      <td>6</td>\n      <td>6</td>\n      <td>6</td>\n      <td>6</td>\n      <td>6</td>\n      <td>5</td>\n      <td>5</td>\n      <td>5</td>\n      <td>6</td>\n    </tr>\n    <tr>\n      <th>4</th>\n      <td>84001009</td>\n      <td>US</td>\n      <td>USA</td>\n      <td>840</td>\n      <td>1009.0</td>\n      <td>Blount</td>\n      <td>Alabama</td>\n      <td>US</td>\n      <td>33.982109</td>\n      <td>-86.567906</td>\n      <td>...</td>\n      <td>5</td>\n      <td>6</td>\n      <td>6</td>\n      <td>6</td>\n      <td>6</td>\n      <td>6</td>\n      <td>7</td>\n      <td>7</td>\n      <td>9</td>\n      <td>9</td>\n    </tr>\n    <tr>\n      <th>5</th>\n      <td>84001011</td>\n      <td>US</td>\n      <td>USA</td>\n      <td>840</td>\n      <td>1011.0</td>\n      <td>Bullock</td>\n      <td>Alabama</td>\n      <td>US</td>\n      <td>32.100305</td>\n      <td>-85.712655</td>\n      <td>...</td>\n      <td>13</td>\n      <td>13</td>\n      <td>13</td>\n      <td>13</td>\n      <td>13</td>\n      <td>13</td>\n      <td>13</td>\n      <td>13</td>\n      <td>13</td>\n      <td>13</td>\n    </tr>\n    <tr>\n      <th>6</th>\n      <td>84001013</td>\n      <td>US</td>\n      <td>USA</td>\n      <td>840</td>\n      <td>1013.0</td>\n      <td>Butler</td>\n      <td>Alabama</td>\n      <td>US</td>\n      <td>31.753001</td>\n      <td>-86.680575</td>\n      <td>...</td>\n      <td>36</td>\n      <td>36</td>\n      <td>36</td>\n      <td>36</td>\n      <td>36</td>\n      <td>36</td>\n      <td>36</td>\n      <td>36</td>\n      <td>36</td>\n      <td>36</td>\n    </tr>\n    <tr>\n      <th>7</th>\n      <td>84001015</td>\n      <td>US</td>\n      <td>USA</td>\n      <td>840</td>\n      <td>1015.0</td>\n      <td>Calhoun</td>\n      <td>Alabama</td>\n      <td>US</td>\n      <td>33.774837</td>\n      <td>-85.826304</td>\n      <td>...</td>\n      <td>23</td>\n      <td>23</td>\n      <td>23</td>\n      <td>23</td>\n      <td>23</td>\n      <td>24</td>\n      <td>25</td>\n      <td>26</td>\n      <td>27</td>\n      <td>29</td>\n    </tr>\n    <tr>\n      <th>8</th>\n      <td>84001017</td>\n      <td>US</td>\n      <td>USA</td>\n      <td>840</td>\n      <td>1017.0</td>\n      <td>Chambers</td>\n      <td>Alabama</td>\n      <td>US</td>\n      <td>32.913601</td>\n      <td>-85.390727</td>\n      <td>...</td>\n      <td>38</td>\n      <td>38</td>\n      <td>38</td>\n      <td>38</td>\n      <td>38</td>\n      <td>38</td>\n      <td>38</td>\n      <td>38</td>\n      <td>39</td>\n      <td>39</td>\n    </tr>\n    <tr>\n      <th>9</th>\n      <td>84001019</td>\n      <td>US</td>\n      <td>USA</td>\n      <td>840</td>\n      <td>1019.0</td>\n      <td>Cherokee</td>\n      <td>Alabama</td>\n      <td>US</td>\n      <td>34.178060</td>\n      <td>-85.606390</td>\n      <td>...</td>\n      <td>9</td>\n      <td>9</td>\n      <td>9</td>\n      <td>9</td>\n      <td>9</td>\n      <td>9</td>\n      <td>9</td>\n      <td>11</td>\n      <td>11</td>\n      <td>11</td>\n    </tr>\n  </tbody>\n</table>\n<p>10 rows × 233 columns</p>\n</div>"
     },
     "metadata": {},
     "output_type": "execute_result",
     "execution_count": 6
    }
   ],
   "source": [
    "## time series covid-19 confirmed case \n",
    "PROJECT_ROOT_DORECTORY = '~/Documents/FALL_2020/INTRO_DATASCIENCE/WEEKLY_PROJECT/week_one'\n",
    "\n",
    "us_confirmed_case = pd.read_csv(PROJECT_ROOT_DORECTORY + \"/data/raw/time_series_covid_19_confirmed_US.csv\")\n",
    "#us_confirmed_case.head(10)\n",
    "\n",
    "us_confirmed_death = pd.read_csv(PROJECT_ROOT_DORECTORY + \"/data/raw/time_series_covid_19_deaths_US.csv\")\n",
    "#us_confirmed_death.head(10)"
   ],
   "metadata": {
    "collapsed": false,
    "pycharm": {
     "name": "#%%\n",
     "is_executing": false
    }
   }
  },
  {
   "cell_type": "markdown",
   "source": [
    "First 11 columns are string type and they are common in both of the files, so they are dropped before dividing by the \n",
    "another df. Later those colums were combined to generate the file in the original format. It was done to preserve the\n",
    "data information contained on it. \n",
    "\n",
    "Generated .csv file is written in the desinated o/p folder "
   ],
   "metadata": {
    "collapsed": false
   }
  },
  {
   "cell_type": "code",
   "execution_count": 7,
   "outputs": [
    {
     "name": "stdout",
     "text": [
      "   1/22/20  1/23/20  1/24/20  1/25/20  1/26/20  1/27/20  1/28/20  1/29/20  \\\n",
      "0      0.0      0.0      0.0      0.0      0.0      0.0      0.0      0.0   \n",
      "1      0.0      0.0      0.0      0.0      0.0      0.0      0.0      0.0   \n",
      "2      0.0      0.0      0.0      0.0      0.0      0.0      0.0      0.0   \n",
      "3      0.0      0.0      0.0      0.0      0.0      0.0      0.0      0.0   \n",
      "4      0.0      0.0      0.0      0.0      0.0      0.0      0.0      0.0   \n",
      "5      0.0      0.0      0.0      0.0      0.0      0.0      0.0      0.0   \n",
      "6      0.0      0.0      0.0      0.0      0.0      0.0      0.0      0.0   \n",
      "7      0.0      0.0      0.0      0.0      0.0      0.0      0.0      0.0   \n",
      "8      0.0      0.0      0.0      0.0      0.0      0.0      0.0      0.0   \n",
      "9      0.0      0.0      0.0      0.0      0.0      0.0      0.0      0.0   \n",
      "\n",
      "   1/30/20  1/31/20  ...  8/28/20  8/29/20  8/3/20  8/4/20  8/5/20  8/6/20  \\\n",
      "0      0.0      0.0  ...    0.017    0.017   0.020   0.019   0.020   0.020   \n",
      "1      0.0      0.0  ...    0.008    0.008   0.007   0.007   0.007   0.007   \n",
      "2      0.0      0.0  ...    0.011    0.011   0.009   0.009   0.009   0.009   \n",
      "3      0.0      0.0  ...    0.010    0.011   0.008   0.008   0.010   0.010   \n",
      "4      0.0      0.0  ...    0.009    0.009   0.004   0.004   0.004   0.004   \n",
      "5      0.0      0.0  ...    0.025    0.024   0.025   0.025   0.025   0.024   \n",
      "6      0.0      0.0  ...    0.044    0.044   0.047   0.047   0.046   0.046   \n",
      "7      0.0      0.0  ...    0.012    0.013   0.006   0.008   0.008   0.008   \n",
      "8      0.0      0.0  ...    0.045    0.045   0.046   0.046   0.046   0.046   \n",
      "9      0.0      0.0  ...    0.033    0.032   0.029   0.028   0.028   0.027   \n",
      "\n",
      "   8/7/20  8/8/20  8/9/20  Population  \n",
      "0   0.020   0.019   0.018         NaN  \n",
      "1   0.007   0.007   0.007         NaN  \n",
      "2   0.009   0.009   0.009         NaN  \n",
      "3   0.010   0.012   0.011         NaN  \n",
      "4   0.004   0.005   0.005         NaN  \n",
      "5   0.024   0.024   0.024         NaN  \n",
      "6   0.046   0.047   0.047         NaN  \n",
      "7   0.008   0.007   0.008         NaN  \n",
      "8   0.046   0.045   0.045         NaN  \n",
      "9   0.027   0.026   0.026         NaN  \n",
      "\n",
      "[10 rows x 222 columns]\n"
     ],
     "output_type": "stream"
    }
   ],
   "source": [
    "# Replacing day wise data with 1 value if no case is cofirmed to handle NaN case\n",
    "us_confirmed_case_day_wise_data = us_confirmed_case.drop(\n",
    "    us_confirmed_case.columns[[0, 1, 2, 3, 4, 5, 6, 7, 8, 9, 10]], 1).replace(0, 1)\n",
    "\n",
    "us_confirmed_death_day_wise_data = us_confirmed_death.drop(\n",
    "    us_confirmed_death.columns[[0, 1, 2, 3, 4, 5, 6, 7, 8, 9, 10]], 1)\n",
    "\n",
    "us_confirmed_death_day_wise_percentage = pd.DataFrame(\n",
    "    us_confirmed_death_day_wise_data / us_confirmed_case_day_wise_data).round(3)\n",
    "\n",
    "print(us_confirmed_death_day_wise_percentage.head(10))\n",
    "# Creating new DF with % value\n",
    "us_confirmed_death_other_data = us_confirmed_death[\n",
    "    [\"UID\", \"iso2\", \"iso3\", \"code3\", \"FIPS\", \"Admin2\", \"Province_State\", \"Country_Region\", \"Lat\", \"Long_\",\n",
    "     \"Combined_Key\"]]\n",
    "\n",
    "# Creating a new % data frame\n",
    "merged_df = pd.concat([us_confirmed_death_other_data, us_confirmed_death_day_wise_percentage], axis=1)\n",
    "merged_df.to_csv(PROJECT_ROOT_DORECTORY + \"/data/processed/time_series_covid_19_deaths_US_percentage.csv\")\n"
   ],
   "metadata": {
    "collapsed": false,
    "pycharm": {
     "name": "#%%\n",
     "is_executing": false
    }
   }
  }
 ],
 "metadata": {
  "kernelspec": {
   "display_name": "Python 3",
   "language": "python",
   "name": "python3"
  },
  "language_info": {
   "codemirror_mode": {
    "name": "ipython",
    "version": 2
   },
   "file_extension": ".py",
   "mimetype": "text/x-python",
   "name": "python",
   "nbconvert_exporter": "python",
   "pygments_lexer": "ipython2",
   "version": "2.7.6"
  },
  "pycharm": {
   "stem_cell": {
    "cell_type": "raw",
    "source": [],
    "metadata": {
     "collapsed": false
    }
   }
  }
 },
 "nbformat": 4,
 "nbformat_minor": 0
}